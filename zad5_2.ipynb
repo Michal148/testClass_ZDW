{
 "cells": [
  {
   "cell_type": "code",
   "execution_count": 21,
   "id": "85e66428",
   "metadata": {},
   "outputs": [
    {
     "name": "stdout",
     "output_type": "stream",
     "text": [
      "True\n"
     ]
    }
   ],
   "source": []
  },
  {
   "cell_type": "code",
   "execution_count": 26,
   "id": "4fdaad98",
   "metadata": {},
   "outputs": [
    {
     "name": "stdout",
     "output_type": "stream",
     "text": [
      "51\n"
     ]
    }
   ],
   "source": [
    "from triangle import triangle\n",
    "import random\n",
    "aa = []\n",
    "bb = []\n",
    "cc = []\n",
    "for i in range(100):\n",
    "    choice = random.randint(1, 100)\n",
    "    aa.append(choice)\n",
    "for i in range(100):\n",
    "    choice = random.randint(1, 100)\n",
    "    bb.append(choice)\n",
    "for i in range(100):\n",
    "    choice = random.randint(1, 100)\n",
    "    cc.append(choice)\n",
    "dd=[]\n",
    "for i in range(len(aa)):\n",
    "    tr = triangle(aa[i],bb[i],cc[i])\n",
    "    dd.append(tr)\n",
    "vall = dd.count(True)\n",
    "print(vall)\n",
    "\n",
    "\n"
   ]
  },
  {
   "cell_type": "code",
   "execution_count": null,
   "id": "6336cfd1",
   "metadata": {},
   "outputs": [],
   "source": []
  },
  {
   "cell_type": "code",
   "execution_count": null,
   "id": "25ec82fc",
   "metadata": {},
   "outputs": [],
   "source": []
  }
 ],
 "metadata": {
  "kernelspec": {
   "display_name": "Python 3 (ipykernel)",
   "language": "python",
   "name": "python3"
  },
  "language_info": {
   "codemirror_mode": {
    "name": "ipython",
    "version": 3
   },
   "file_extension": ".py",
   "mimetype": "text/x-python",
   "name": "python",
   "nbconvert_exporter": "python",
   "pygments_lexer": "ipython3",
   "version": "3.10.9"
  }
 },
 "nbformat": 4,
 "nbformat_minor": 5
}
